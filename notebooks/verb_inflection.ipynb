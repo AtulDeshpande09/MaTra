{
 "cells": [
  {
   "cell_type": "code",
   "execution_count": 1,
   "id": "46147126-2fec-4be8-99ba-7ef4fbc1bba6",
   "metadata": {},
   "outputs": [],
   "source": [
    "import sys\n",
    "sys.path.append(\"..\")\n",
    "\n",
    "from lexicon import lexicon\n"
   ]
  },
  {
   "cell_type": "code",
   "execution_count": 2,
   "id": "b3a7f005-5066-446b-a924-8455dc1b7462",
   "metadata": {},
   "outputs": [],
   "source": [
    "def tokenize(sentence):\n",
    "    sentence = sentence.strip('.?!').lower()\n",
    "    return sentence.split()"
   ]
  },
  {
   "cell_type": "markdown",
   "id": "53d4895d-08df-4be2-857b-40f3fc6c66fa",
   "metadata": {},
   "source": [
    "### Model"
   ]
  },
  {
   "cell_type": "code",
   "execution_count": 3,
   "id": "5fe6a316-d9a1-498f-a77f-122dd768b9ad",
   "metadata": {},
   "outputs": [],
   "source": [
    "filename = \"../models/verbs.pkl\""
   ]
  },
  {
   "cell_type": "code",
   "execution_count": 4,
   "id": "59b44dfc-54b8-4008-9a9a-32559dab1e5a",
   "metadata": {},
   "outputs": [],
   "source": [
    "import pickle"
   ]
  },
  {
   "cell_type": "code",
   "execution_count": 5,
   "id": "41610cf7-3eed-4300-9fe5-467a90a58e6b",
   "metadata": {},
   "outputs": [],
   "source": [
    "with open(filename,\"rb\") as file:\n",
    "    model = pickle.load(file)"
   ]
  },
  {
   "cell_type": "code",
   "execution_count": 6,
   "id": "e7d78eaf-0d2d-4df1-aee3-5c17198e04fe",
   "metadata": {},
   "outputs": [],
   "source": [
    "encode = {\n",
    "    0 : {'fp' : 0 , 'sp' : 1 , 'tp' :2 } ,\n",
    "    1 : {'sg' : 0 , 'pl' : 1 } ,\n",
    "    2 : {'M' : 0 , 'F' : 1 } ,\n",
    "    3 : {'present' : 0 , 'past' : 1 , 'future' :2 }\n",
    "}"
   ]
  },
  {
   "cell_type": "code",
   "execution_count": 7,
   "id": "35e355b7-a9c6-4778-a6f7-255bfabc83ac",
   "metadata": {},
   "outputs": [],
   "source": [
    "def make_input(data:list):\n",
    "    encoded_data = []\n",
    "    for i , feature in enumerate(data):\n",
    "        new = encode[i][feature]\n",
    "        encoded_data.append(new)\n",
    "    \n",
    "    return [encoded_data]"
   ]
  },
  {
   "cell_type": "code",
   "execution_count": 17,
   "id": "c0a3a14f-86e0-4e1b-aeec-8b2dd6ba1e9e",
   "metadata": {},
   "outputs": [],
   "source": [
    "def inflect_verb(verb_rt , person , plural, gender , tense ):\n",
    "    data = [ person , plural, gender , tense ]\n",
    "    model_input = make_input(data)\n",
    "    suffix = model.predict(model_input)\n",
    "    verb = verb_rt[:-2]+ suffix[0]\n",
    "    return verb"
   ]
  },
  {
   "cell_type": "code",
   "execution_count": 21,
   "id": "2a508a64-3e9e-44cc-a972-3ff0caf46179",
   "metadata": {},
   "outputs": [],
   "source": [
    "def to_mr(tokens):\n",
    "\n",
    "    sub_en , verb_en , obj_en = tokens[0] , tokens[1][:-1] , tokens[2]\n",
    "    \n",
    "    #print(verb_en)\n",
    "\n",
    "    sub = lexicon.get(sub_en)\n",
    "    verb = lexicon.get(verb_en)\n",
    "    obj = lexicon.get(obj_en)\n",
    "\n",
    "\n",
    "    sub_mr = sub[\"mr\"]\n",
    "    plural = sub[\"number\"]\n",
    "    person = sub[\"person\"]\n",
    "    \n",
    "    obj_mr = obj['mr']\n",
    "\n",
    "    verb_rt = verb['root']\n",
    "    gender = sub['gender']\n",
    "    tense = verb[\"tense\"]\n",
    "\n",
    "    verb_mr = inflect_verb(verb_rt , person , plural, gender , tense)\n",
    "\n",
    "    return f\"{sub_mr} {obj_mr} {verb_mr}\""
   ]
  },
  {
   "cell_type": "code",
   "execution_count": 22,
   "id": "1ce539a0-8065-4de8-b9d8-95360a96a912",
   "metadata": {},
   "outputs": [],
   "source": [
    "def translate():\n",
    "\n",
    "    print(\"English → Marathi (Rule-based FST Translator)\")\n",
    "\n",
    "    sentence1 = \"She eats apple.\"\n",
    "    tok1 = tokenize(sentence1)\n",
    "    mr_1 = to_mr(tok1)\n",
    "    print(sentence1)\n",
    "    print(mr_1)\n",
    "\n",
    "    sentence2 = \"He drinks water.\"\n",
    "    tok2 = tokenize(sentence2)\n",
    "    mr_2 = to_mr(tok2)\n",
    "    print(sentence2)\n",
    "    print(mr_2)"
   ]
  },
  {
   "cell_type": "code",
   "execution_count": 23,
   "id": "550d6562-7643-42f0-bf40-4f9df3db524e",
   "metadata": {},
   "outputs": [
    {
     "name": "stdout",
     "output_type": "stream",
     "text": [
      "English → Marathi (Rule-based FST Translator)\n",
      "She eats apple.\n",
      "ती सफरचंद खातॆ\n",
      "He drinks water.\n",
      "तो पाणी पितॊ\n"
     ]
    }
   ],
   "source": [
    "translate()"
   ]
  },
  {
   "cell_type": "code",
   "execution_count": null,
   "id": "f178f6d3-a150-4eb2-89df-871f114f2936",
   "metadata": {},
   "outputs": [],
   "source": []
  },
  {
   "cell_type": "code",
   "execution_count": null,
   "id": "9bfff0fe-bdc3-4c5c-a1a6-73840210e381",
   "metadata": {},
   "outputs": [],
   "source": []
  }
 ],
 "metadata": {
  "kernelspec": {
   "display_name": "Python 3 (ipykernel)",
   "language": "python",
   "name": "python3"
  },
  "language_info": {
   "codemirror_mode": {
    "name": "ipython",
    "version": 3
   },
   "file_extension": ".py",
   "mimetype": "text/x-python",
   "name": "python",
   "nbconvert_exporter": "python",
   "pygments_lexer": "ipython3",
   "version": "3.13.5"
  }
 },
 "nbformat": 4,
 "nbformat_minor": 5
}
