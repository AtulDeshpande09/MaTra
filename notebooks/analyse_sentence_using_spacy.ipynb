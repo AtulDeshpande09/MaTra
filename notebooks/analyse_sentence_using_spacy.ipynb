{
 "cells": [
  {
   "cell_type": "code",
   "execution_count": 1,
   "id": "54e95b19-ec96-4300-ae5e-5d3b7d91a498",
   "metadata": {},
   "outputs": [],
   "source": [
    "import spacy"
   ]
  },
  {
   "cell_type": "code",
   "execution_count": 2,
   "id": "caf02a1c-5af4-4985-94e7-a32e32e5ce0f",
   "metadata": {},
   "outputs": [],
   "source": [
    "nlp = spacy.load(\"en_core_web_sm\")"
   ]
  },
  {
   "cell_type": "code",
   "execution_count": 3,
   "id": "ab730c1a-0c1c-42ae-9e1a-0afe486540d2",
   "metadata": {},
   "outputs": [],
   "source": [
    "doc = nlp(\"She eats an apple\")"
   ]
  },
  {
   "cell_type": "code",
   "execution_count": 4,
   "id": "71812df3-7ac9-4f09-858a-71b19d2597d6",
   "metadata": {},
   "outputs": [
    {
     "name": "stdout",
     "output_type": "stream",
     "text": [
      "Verb: eats\n",
      "POS tag: VBZ\n"
     ]
    }
   ],
   "source": [
    "for token in doc:\n",
    "    if token.pos_ == \"VERB\":\n",
    "        print(\"Verb:\", token.text)\n",
    "        print(\"POS tag:\", token.tag_)\n"
   ]
  },
  {
   "cell_type": "code",
   "execution_count": 5,
   "id": "cf16d604-f464-4c7c-af9d-ff04f6ccb70a",
   "metadata": {},
   "outputs": [],
   "source": [
    "def detect_tense_spacy(doc):\n",
    "    for token in doc:\n",
    "        if token.pos_ == \"VERB\":\n",
    "            if token.tag_ in [\"VBD\", \"VBN\"]:\n",
    "                return 1  # Past\n",
    "            elif token.tag_ in [\"VBZ\", \"VBP\", \"VB\"]:\n",
    "                return 0  # Present\n",
    "            elif token.tag_ == \"MD\":\n",
    "                return 2  # Future\n",
    "    return 0  # Default to present"
   ]
  },
  {
   "cell_type": "code",
   "execution_count": 6,
   "id": "43260587-2f65-462c-bb5c-0213354ea146",
   "metadata": {},
   "outputs": [
    {
     "name": "stdout",
     "output_type": "stream",
     "text": [
      "Subject: She\n",
      "Verb: eats\n",
      "Object: apple\n"
     ]
    }
   ],
   "source": [
    "for token in doc:\n",
    "    if token.dep_ == \"nsubj\":\n",
    "        print(\"Subject:\", token.text)\n",
    "    elif token.dep_ == \"dobj\":\n",
    "        print(\"Object:\", token.text)\n",
    "    elif token.pos_ == \"VERB\":\n",
    "        print(\"Verb:\", token.text)\n"
   ]
  },
  {
   "cell_type": "code",
   "execution_count": 7,
   "id": "94898613-8a7e-4704-98e6-d04b7bcae9c3",
   "metadata": {},
   "outputs": [
    {
     "name": "stdout",
     "output_type": "stream",
     "text": [
      "Root verb: eat\n"
     ]
    }
   ],
   "source": [
    "for token in doc:\n",
    "    if token.pos_ == \"VERB\":\n",
    "        print(\"Root verb:\", token.lemma_)  # Ex: \"eats\" ➝ \"eat\"\n"
   ]
  },
  {
   "cell_type": "code",
   "execution_count": 8,
   "id": "9d8a9f75-2472-4a3e-b34f-a135ae1aeb03",
   "metadata": {},
   "outputs": [],
   "source": [
    "def analyze_sentence(sentence:list):\n",
    "    \"\"\"\n",
    "    Input : sentence (str)\n",
    "    Return :\n",
    "    dict containing - tense , subj , obj , verb .\n",
    "    \"\"\"\n",
    "    doc = nlp(sentence)\n",
    "\n",
    "    tense = detect_tense_spacy(doc)\n",
    "\n",
    "    for token in doc:\n",
    "        if token.dep_ == \"nsubj\":\n",
    "            subj = token.text\n",
    "        elif token.dep_ == \"dobj\":\n",
    "            obj = token.text\n",
    "        elif token.pos_ == \"VERB\":\n",
    "            verb = token.lemma_\n",
    "\n",
    "    return { \"tense\" : tense , \"subj\" : subj , \"verb\" : verb , \"obj\" : obj }"
   ]
  },
  {
   "cell_type": "code",
   "execution_count": 9,
   "id": "5dd2cf5c-e5fa-4d13-afdc-bd11a21c1b7f",
   "metadata": {},
   "outputs": [
    {
     "data": {
      "text/plain": [
       "{'tense': 0, 'subj': 'She', 'verb': 'eat', 'obj': 'apple'}"
      ]
     },
     "execution_count": 9,
     "metadata": {},
     "output_type": "execute_result"
    }
   ],
   "source": [
    "analyze_sentence(\"She eats an apple\")"
   ]
  },
  {
   "cell_type": "code",
   "execution_count": null,
   "id": "d90fe4df-6947-4082-b5cf-3689c4bbd44d",
   "metadata": {},
   "outputs": [],
   "source": []
  }
 ],
 "metadata": {
  "kernelspec": {
   "display_name": "Python 3 (ipykernel)",
   "language": "python",
   "name": "python3"
  },
  "language_info": {
   "codemirror_mode": {
    "name": "ipython",
    "version": 3
   },
   "file_extension": ".py",
   "mimetype": "text/x-python",
   "name": "python",
   "nbconvert_exporter": "python",
   "pygments_lexer": "ipython3",
   "version": "3.13.5"
  }
 },
 "nbformat": 4,
 "nbformat_minor": 5
}
